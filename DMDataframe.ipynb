{
 "cells": [
  {
   "cell_type": "code",
   "execution_count": null,
   "source": [
    "import pandas as pd"
   ],
   "outputs": [],
   "metadata": {}
  },
  {
   "cell_type": "code",
   "execution_count": null,
   "source": [
    "bands = pd.read_csv(filepath_or_buffer=\"bands.csv\" , sep=\",\" , na_values=[\"N/A\"] , dtype={\"id\": \"int32\", \"formed_in\": \"float32\"})"
   ],
   "outputs": [],
   "metadata": {}
  },
  {
   "cell_type": "code",
   "execution_count": null,
   "source": [
    "albums = pd.read_csv(filepath_or_buffer=\"albums.csv\" , sep=\",\" , na_values=[\"N/A\"] , dtype={\"id\": \"int32\", \"formed_in\": \"float32\"})"
   ],
   "outputs": [],
   "metadata": {}
  },
  {
   "cell_type": "code",
   "execution_count": null,
   "source": [
    "alb_ban = pd.merge(\r\n",
    "    left=bands, \r\n",
    "    right=albums, \r\n",
    "    left_on=\"id\", \r\n",
    "    right_on=\"band\", \r\n",
    "    suffixes=[\"_band\", \"_album\"],\r\n",
    "    how=\"left\"\r\n",
    ").drop([\"band\" , \"id_album\" , \"id_band\" , \"status\" , \"formed_in\" , \"theme\" , \"active\"], axis = 1)\r\n",
    "alb_ban = alb_ban.reindex(columns = [\"name\" , \"title\" , \"year\" , \"genre\" , \"country\"])"
   ],
   "outputs": [],
   "metadata": {}
  },
  {
   "cell_type": "code",
   "execution_count": null,
   "source": [
    "def random_albums():\r\n",
    "    n = int(input(\"How many albums?\"))\r\n",
    "    res = alb_ban.sample(n)\r\n",
    "    res.to_csv(\"randoms.csv\")\r\n",
    "    print(res)"
   ],
   "outputs": [],
   "metadata": {}
  },
  {
   "cell_type": "code",
   "execution_count": null,
   "source": [
    "def find_by_bandname():\r\n",
    "    al_byname = alb_ban.set_index(\"name\")\r\n",
    "    n = int(input(\"How many albums?\"))\r\n",
    "    name_input = input(\"Band Name\")\r\n",
    "    res = al_byname.loc[name_input].sample(n)\r\n",
    "    res.to_csv(\"albums_by_bandname.csv\")\r\n",
    "    print(res)"
   ],
   "outputs": [],
   "metadata": {}
  },
  {
   "cell_type": "code",
   "execution_count": null,
   "source": [
    "def find_by_country():\r\n",
    "    al_bycountry = alb_ban.set_index(\"country\")\r\n",
    "    n = int(input(\"How many albums?\"))\r\n",
    "    country_input = input(\"What Country\")\r\n",
    "    res = al_bycountry.loc[country_input].sample(n)\r\n",
    "    res.to_csv(\"randoms_by_country.csv\")\r\n",
    "    print(res)"
   ],
   "outputs": [],
   "metadata": {}
  },
  {
   "cell_type": "code",
   "execution_count": null,
   "source": [
    "def find_by_genre():\r\n",
    "    al_bygenre = alb_ban.set_index(\"genre\")\r\n",
    "    n = int(input(\"How many albums?\"))\r\n",
    "    genre_input = input(\"Which Genre\")\r\n",
    "    res = al_bygenre.loc[genre_input].sample(n)\r\n",
    "    res.to_csv(\"randoms_by_genre.csv\")\r\n",
    "    print(res)"
   ],
   "outputs": [],
   "metadata": {}
  },
  {
   "cell_type": "code",
   "execution_count": null,
   "source": [
    "def find_by_year():\r\n",
    "    al_byyear = alb_ban.set_index(\"year\")\r\n",
    "    n = int(input(\"How many albums?\"))\r\n",
    "    year_input = float(input(\"What Year\"))\r\n",
    "    res = al_byyear.loc[year_input].sample(n)\r\n",
    "    res.to_csv(\"randoms_by_genre.csv\")\r\n",
    "    print(res)"
   ],
   "outputs": [],
   "metadata": {}
  }
 ],
 "metadata": {
  "orig_nbformat": 4,
  "language_info": {
   "name": "python",
   "version": "3.9.6",
   "mimetype": "text/x-python",
   "codemirror_mode": {
    "name": "ipython",
    "version": 3
   },
   "pygments_lexer": "ipython3",
   "nbconvert_exporter": "python",
   "file_extension": ".py"
  },
  "kernelspec": {
   "name": "python3",
   "display_name": "Python 3.9.6 64-bit"
  },
  "interpreter": {
   "hash": "0d008810b9c8467bcb3ca39aa2180e5b81b3a9acb136aab30d47954377cc5120"
  }
 },
 "nbformat": 4,
 "nbformat_minor": 2
}